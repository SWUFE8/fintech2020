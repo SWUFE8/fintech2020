{
 "cells": [
  {
   "cell_type": "markdown",
   "metadata": {},
   "source": [
    "<div  style=\"color:black; width: 100%; background: linear-gradient(to right , #174ca9, #4472c4, #174ca9 ) no-repeat left top; border-bottom:6px solid #4caf4f; position: relative;\"> \n",
    "    <div style=\"color:#fff; line-height:54px;font-size:30px;padding-top:15px; text-align: center; font-weight: bold; \">2020 西南财经大学 金融科技建模大赛</div>\n",
    "<div style=\"color:#fff;font-size:20px; font-weight: bold; padding-top:20x; text-align: center;\">赛题及数据说明</div>\n",
    "<div style=\" text-align: center; color:rgba(255,255,255,.8); padding-top:15px; padding-bottom:20px;\">FINTECH MODELING CONTEST</div>\n",
    "</div>"
   ]
  },
  {
   "cell_type": "markdown",
   "metadata": {},
   "source": [
    "## 比赛规则\n",
    "### 初赛：\n",
    "        时间：5月25日  00:00～6月7日  23:59\n",
    "        参赛选手在比赛网站http://datalab.swufe.edu.cn 获取数据及赛题和代码提交。选手可根据优化情况每日提交完成代码，要求代码处于无错运行状态且逻辑清晰、格式简洁。由后台执行后根据执行结果(AUC值)发布当日动态排名。每日晚9点后不再接受当日更新。\n",
    "        初赛结果以截止时间时所提交代码为基础进行评分排名。 \n",
    "        参赛选手 所提交的可执行代码需在对应R/Python/Matlab/SAS等环境运行无误，如有使用库/包，需在代码中写入安装/引用。\n",
    "        \n",
    "        \n",
    "### 参赛人员要求：\n",
    "        西南财经大学2020年度在校全日制本科生和研究生均可参加。注：本次比赛只接受个人报名。\n",
    "\n"
   ]
  },
  {
   "cell_type": "markdown",
   "metadata": {},
   "source": [
    "## 赛题及数据说明\n",
    "### 问题背景\n",
    "违约损失率（Loss Given Default, LGD）是信用风险评估和巴塞尔协议框架下银行最低资本计算中的重要内容。LGD的定义为贷款违约后不能回收的部分所占违约暴露的比例。巴塞尔协议要求LGD需要在贷款审批时进行估计，且由于LGD受产品、抵押、环境等因素影响较大，对LGD的估计成为世界范围内银行风险管理的重要课题。基于此背景，本次比赛将对LGD进行建模预测，包括但不限于使用数学、统计学、机器学习等领域的模型与算法。\n",
    "\n",
    "### 赛题描述\n",
    "本次比赛包含两个数据集：训练集和测试集。在训练集中，Label为二元目标变量，Label为1表明LGD<1，Label为0表明LGD=1。每条样本有唯一独立id。其他字段为备选预测变量。字段释义请参见数据字典。\n",
    "现要求预测目标变量，自选模型并估计参数，在测试集上进行验证。测试集与训练集数据结构和字段名称相同。建模过程中自选方法进行数据校验、数据清洗、特征工程、参数估计、模型拟合等步骤。\n",
    "模型效果以在测试集上的AUC作为唯一评判标准并按照AUC排序名次计算初赛成绩。\n",
    "建模语言环境R、SAS、Python、MATLAB任选。\n",
    "\n",
    "### 数据获取\n",
    "<div style=\"text-align: left;width:100%\"><a href=\"./share/data/\">数据目录</a ></div>\n"
   ]
  },
  {
   "cell_type": "code",
   "execution_count": null,
   "metadata": {},
   "outputs": [],
   "source": []
  }
 ],
 "metadata": {
  "kernelspec": {
   "display_name": "Python 3",
   "language": "python",
   "name": "python3"
  },
  "language_info": {
   "codemirror_mode": {
    "name": "ipython",
    "version": 3
   },
   "file_extension": ".py",
   "mimetype": "text/x-python",
   "name": "python",
   "nbconvert_exporter": "python",
   "pygments_lexer": "ipython3",
   "version": "3.7.3"
  },
  "toc": {
   "base_numbering": 1,
   "nav_menu": {},
   "number_sections": true,
   "sideBar": true,
   "skip_h1_title": false,
   "title_cell": "Table of Contents",
   "title_sidebar": "Contents",
   "toc_cell": false,
   "toc_position": {},
   "toc_section_display": true,
   "toc_window_display": false
  }
 },
 "nbformat": 4,
 "nbformat_minor": 2
}
